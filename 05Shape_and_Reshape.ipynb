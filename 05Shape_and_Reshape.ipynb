{
  "nbformat": 4,
  "nbformat_minor": 0,
  "metadata": {
    "colab": {
      "provenance": [],
      "authorship_tag": "ABX9TyP9l71hdidjLmTOc7s9L3VB",
      "include_colab_link": true
    },
    "kernelspec": {
      "name": "python3",
      "display_name": "Python 3"
    },
    "language_info": {
      "name": "python"
    }
  },
  "cells": [
    {
      "cell_type": "markdown",
      "metadata": {
        "id": "view-in-github",
        "colab_type": "text"
      },
      "source": [
        "<a href=\"https://colab.research.google.com/github/danieldrako/Manipulacion-Transformacion-Datos-Pandas-NumPy/blob/main/05Shape_and_Reshape.ipynb\" target=\"_parent\"><img src=\"https://colab.research.google.com/assets/colab-badge.svg\" alt=\"Open In Colab\"/></a>"
      ]
    },
    {
      "cell_type": "code",
      "execution_count": null,
      "metadata": {
        "id": "GozBITLWasE-"
      },
      "outputs": [],
      "source": [
        "import numpy as np"
      ]
    },
    {
      "cell_type": "markdown",
      "source": [
        "Hay 2 funciones muy importantes de los arreglos (Shape y Reshape). La forma de un arreglo nos va a decir con que estructura se está trabajando (tamaño, manipular, ingresar)."
      ],
      "metadata": {
        "id": "YtztdosVa68t"
      }
    },
    {
      "cell_type": "code",
      "source": [
        "#Shape\n",
        "#Indica la forma del arreglo\n",
        "arr = np.random.randint(1,10,(3,2))\n",
        "arr.shape"
      ],
      "metadata": {
        "colab": {
          "base_uri": "https://localhost:8080/"
        },
        "id": "9-m-N-Aba4UN",
        "outputId": "6c0c344c-3556-4755-c477-cf106dd7948d"
      },
      "execution_count": null,
      "outputs": [
        {
          "output_type": "execute_result",
          "data": {
            "text/plain": [
              "(3, 2)"
            ]
          },
          "metadata": {},
          "execution_count": 3
        }
      ]
    },
    {
      "cell_type": "code",
      "source": [
        "arr"
      ],
      "metadata": {
        "colab": {
          "base_uri": "https://localhost:8080/"
        },
        "id": "T6t0crnKa9Xk",
        "outputId": "4c88e9dc-f95d-4aa6-e6ce-e46f94411d1c"
      },
      "execution_count": null,
      "outputs": [
        {
          "output_type": "execute_result",
          "data": {
            "text/plain": [
              "array([[7, 8],\n",
              "       [8, 8],\n",
              "       [5, 5]])"
            ]
          },
          "metadata": {},
          "execution_count": 4
        }
      ]
    },
    {
      "cell_type": "code",
      "source": [
        "#Reshape\n",
        "#transforma el arreglo mientras se mantengan los elementos\n",
        "arr.reshape(1,6)\n"
      ],
      "metadata": {
        "colab": {
          "base_uri": "https://localhost:8080/"
        },
        "id": "6PZLQlZVbHMt",
        "outputId": "eb5fa6e1-36a6-4855-a51f-2fe5df1d42a5"
      },
      "execution_count": null,
      "outputs": [
        {
          "output_type": "execute_result",
          "data": {
            "text/plain": [
              "array([[7, 8, 8, 8, 5, 5]])"
            ]
          },
          "metadata": {},
          "execution_count": 6
        }
      ]
    },
    {
      "cell_type": "code",
      "source": [
        "arr.reshape(2,3)"
      ],
      "metadata": {
        "colab": {
          "base_uri": "https://localhost:8080/"
        },
        "id": "bHN8iLKvbOCG",
        "outputId": "a6318b8f-7cd7-49b2-f5fd-474102307274"
      },
      "execution_count": null,
      "outputs": [
        {
          "output_type": "execute_result",
          "data": {
            "text/plain": [
              "array([[7, 8, 8],\n",
              "       [8, 5, 5]])"
            ]
          },
          "metadata": {},
          "execution_count": 7
        }
      ]
    },
    {
      "cell_type": "code",
      "source": [
        "np.reshape(arr,(1,6))"
      ],
      "metadata": {
        "colab": {
          "base_uri": "https://localhost:8080/"
        },
        "id": "uSLsUBrsbRsu",
        "outputId": "02a4f537-04a7-405d-c91e-3eed37a7b728"
      },
      "execution_count": null,
      "outputs": [
        {
          "output_type": "execute_result",
          "data": {
            "text/plain": [
              "array([[7, 8, 8, 8, 5, 5]])"
            ]
          },
          "metadata": {},
          "execution_count": 8
        }
      ]
    },
    {
      "cell_type": "code",
      "source": [
        "#Se puede hacer un reshape como lo haría C\n",
        "np.reshape(arr,(2,3), 'C')"
      ],
      "metadata": {
        "colab": {
          "base_uri": "https://localhost:8080/"
        },
        "id": "fMitYkpobUi_",
        "outputId": "abe7e4e8-49ad-426c-f005-12bfe1aea395"
      },
      "execution_count": null,
      "outputs": [
        {
          "output_type": "execute_result",
          "data": {
            "text/plain": [
              "array([[7, 8, 8],\n",
              "       [8, 5, 5]])"
            ]
          },
          "metadata": {},
          "execution_count": 9
        }
      ]
    },
    {
      "cell_type": "code",
      "source": [
        "#También se puede hacer reshape a como lo haría Fortran\n",
        "np.reshape(arr,(2,3), 'F')"
      ],
      "metadata": {
        "colab": {
          "base_uri": "https://localhost:8080/"
        },
        "id": "QrzWv8G4bd_I",
        "outputId": "dc8bec5f-4778-4fd7-a6f6-80503eb79c73"
      },
      "execution_count": null,
      "outputs": [
        {
          "output_type": "execute_result",
          "data": {
            "text/plain": [
              "array([[7, 5, 8],\n",
              "       [8, 8, 5]])"
            ]
          },
          "metadata": {},
          "execution_count": 10
        }
      ]
    },
    {
      "cell_type": "code",
      "source": [
        "#Además, existe la opción de hacer reshape según como esté optimizado nuestro sistema. En este caso es como en C\n",
        "np.reshape(arr,(2,3), 'A')"
      ],
      "metadata": {
        "colab": {
          "base_uri": "https://localhost:8080/"
        },
        "id": "7up_pJGqbief",
        "outputId": "13944bc7-d367-4b36-916a-ccd578fd35c8"
      },
      "execution_count": null,
      "outputs": [
        {
          "output_type": "execute_result",
          "data": {
            "text/plain": [
              "array([[7, 8, 8],\n",
              "       [8, 5, 5]])"
            ]
          },
          "metadata": {},
          "execution_count": 11
        }
      ]
    },
    {
      "cell_type": "code",
      "source": [
        "'''\n",
        "Si tienes un (3,3) no lo puedes pasar a (4,2). \n",
        "No respeta los 9 elementos del array original\n",
        "'''"
      ],
      "metadata": {
        "colab": {
          "base_uri": "https://localhost:8080/",
          "height": 36
        },
        "id": "s6jE-GjQbrV4",
        "outputId": "4ec08582-7316-431e-8ac0-3b52622a01b6"
      },
      "execution_count": null,
      "outputs": [
        {
          "output_type": "execute_result",
          "data": {
            "text/plain": [
              "'\\nSi tienes un (3,3) no lo puedes pasar a (4,2). \\nNo respeta los 9 elementos del array original\\n'"
            ],
            "application/vnd.google.colaboratory.intrinsic+json": {
              "type": "string"
            }
          },
          "metadata": {},
          "execution_count": 12
        }
      ]
    },
    {
      "cell_type": "code",
      "source": [],
      "metadata": {
        "id": "SgQS-UPqb6DZ"
      },
      "execution_count": null,
      "outputs": []
    }
  ]
}